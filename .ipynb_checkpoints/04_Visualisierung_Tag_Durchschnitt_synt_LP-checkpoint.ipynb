{
 "cells": [
  {
   "cell_type": "code",
   "execution_count": 2,
   "metadata": {},
   "outputs": [],
   "source": [
    "import pandas as pd\n",
    "import datetime\n",
    "import glob\n",
    "import json\n",
    "import matplotlib.pyplot as plt\n",
    "import matplotlib.dates as mdates\n",
    "import numpy as np\n",
    "import bokeh\n",
    "import seaborn as sns\n",
    "import pandas_profiling"
   ]
  },
  {
   "cell_type": "markdown",
   "metadata": {},
   "source": [
    "# File einlesen und formatieren:"
   ]
  },
  {
   "cell_type": "code",
   "execution_count": 4,
   "metadata": {},
   "outputs": [],
   "source": [
    "#DF MEDIAN  OHNE BATTERIE:\n",
    "#df= pd.read_csv(\"synt_ohne_bat_median.csv\", error_bad_lines=False, sep=\",\")\n",
    "\n",
    "#richtiges df:\n",
    "df= pd.read_csv(\"data/data3/synt_mit_bat_mittelwert.csv\", error_bad_lines=False, sep=\";\")"
   ]
  },
  {
   "cell_type": "code",
   "execution_count": 5,
   "metadata": {},
   "outputs": [],
   "source": [
    "df['DateTime'] = pd.to_datetime(df['DateTime'], format=\"%Y-%m-%d\", utc=True)\n",
    "df['DateTime'] = df['DateTime'].dt.tz_convert('Europe/Berlin')"
   ]
  },
  {
   "cell_type": "code",
   "execution_count": 6,
   "metadata": {},
   "outputs": [
    {
     "data": {
      "text/plain": [
       "DateTime                            datetime64[ns, Europe/Berlin]\n",
       "DevWork_97 [Energy_Ws]                                    float64\n",
       "FromBattToConsumer_0 [Energy_Wh]                          float64\n",
       "FromGenToBatt_0 [Energy_Wh]                               float64\n",
       "FromGenToConsumer_0 [Energy_Wh]                           float64\n",
       "FromGenToGrid_0 [Energy_Wh]                               float64\n",
       "FromGridToConsumer_0 [Energy_Wh]                          float64\n",
       "FromGrid_0 [Energy_Wh]                                    float64\n",
       "StateOfCharge_254 [Percent]                               float64\n",
       "ToConsumer_0 [Energy_Wh]                                  float64\n",
       "dtype: object"
      ]
     },
     "execution_count": 6,
     "metadata": {},
     "output_type": "execute_result"
    }
   ],
   "source": [
    "df.dtypes"
   ]
  },
  {
   "cell_type": "code",
   "execution_count": 7,
   "metadata": {},
   "outputs": [
    {
     "data": {
      "text/plain": [
       "'\\nDF shape original:\\n\\nDateTime                            datetime64[ns, Europe/Berlin]\\nDevWork_97 [Energy_Ws]                                    float64\\nFromBattToConsumer_0 [Energy_Wh]                            int64\\nFromGenToBatt_0 [Energy_Wh]                                 int64\\nFromGenToConsumer_0 [Energy_Wh]                           float64\\nFromGenToGrid_0 [Energy_Wh]                               float64\\nFromGridToConsumer_0 [Energy_Wh]                          float64\\nFromGrid_0 [Energy_Wh]                                    float64\\nToConsumer_0 [Energy_Wh]                                  float64\\ndtype: object\\n'"
      ]
     },
     "execution_count": 7,
     "metadata": {},
     "output_type": "execute_result"
    }
   ],
   "source": [
    "#RENAME COLUMNS:\n",
    "\n",
    "df.columns = ['DateTime', 'DevWork', 'FromBatToCons', 'FromGenToBat','FromGenToCons', 'FromGenToGrid','FromGridToCons','FromGrid','StateOfCharge' ,'ToCons']\n",
    "\n",
    "\n",
    "'''\n",
    "DF shape original:\n",
    "\n",
    "DateTime                            datetime64[ns, Europe/Berlin]\n",
    "DevWork_97 [Energy_Ws]                                    float64\n",
    "FromBattToConsumer_0 [Energy_Wh]                            int64\n",
    "FromGenToBatt_0 [Energy_Wh]                                 int64\n",
    "FromGenToConsumer_0 [Energy_Wh]                           float64\n",
    "FromGenToGrid_0 [Energy_Wh]                               float64\n",
    "FromGridToConsumer_0 [Energy_Wh]                          float64\n",
    "FromGrid_0 [Energy_Wh]                                    float64\n",
    "ToConsumer_0 [Energy_Wh]                                  float64\n",
    "dtype: object\n",
    "'''"
   ]
  },
  {
   "cell_type": "code",
   "execution_count": 9,
   "metadata": {},
   "outputs": [],
   "source": [
    "# Feature \"FromGen\" (Gesamterzeugungsmenge der PV-Anlage) berechnen\n",
    "df['FromGen'] = df['FromGenToBat'] + df['FromGenToCons'] + df['FromGenToGrid']"
   ]
  },
  {
   "cell_type": "code",
   "execution_count": 10,
   "metadata": {},
   "outputs": [],
   "source": [
    "# um den Mittelwert nicht zu verfälschen, wird 2021 entfernt, da hier nur der Zeitraum Jänner bis Anfang März verfügbar ist.\n",
    "# so ergibt sich der Mittelwert aus den vollen Jahren 2017-2020"
   ]
  },
  {
   "cell_type": "code",
   "execution_count": 11,
   "metadata": {},
   "outputs": [],
   "source": [
    "d2= df[(df['DateTime'].dt.year != 2021)]"
   ]
  },
  {
   "cell_type": "markdown",
   "metadata": {},
   "source": [
    "# Durchschnittlichen Tag berechnen (Erzeugung, Verbrauch):"
   ]
  },
  {
   "cell_type": "markdown",
   "metadata": {},
   "source": [
    "Es wird ein Subset aus der Überschussmenge gebildet (jeweils aggregiert nach Monat und Tag)\n",
    "Außerdem erfolgt noch eine Umrechnung auf kWh um eine bessere Vergleichbarkeit zu ermöglichen."
   ]
  },
  {
   "cell_type": "code",
   "execution_count": 12,
   "metadata": {},
   "outputs": [],
   "source": [
    "df['Uhrzeit'] = df['DateTime'].dt.time"
   ]
  },
  {
   "cell_type": "code",
   "execution_count": 13,
   "metadata": {},
   "outputs": [
    {
     "data": {
      "text/html": [
       "<div>\n",
       "<style scoped>\n",
       "    .dataframe tbody tr th:only-of-type {\n",
       "        vertical-align: middle;\n",
       "    }\n",
       "\n",
       "    .dataframe tbody tr th {\n",
       "        vertical-align: top;\n",
       "    }\n",
       "\n",
       "    .dataframe thead th {\n",
       "        text-align: right;\n",
       "    }\n",
       "</style>\n",
       "<table border=\"1\" class=\"dataframe\">\n",
       "  <thead>\n",
       "    <tr style=\"text-align: right;\">\n",
       "      <th></th>\n",
       "      <th>DateTime</th>\n",
       "      <th>DevWork</th>\n",
       "      <th>FromBatToCons</th>\n",
       "      <th>FromGenToBat</th>\n",
       "      <th>FromGenToCons</th>\n",
       "      <th>FromGenToGrid</th>\n",
       "      <th>FromGridToCons</th>\n",
       "      <th>FromGrid</th>\n",
       "      <th>StateOfCharge</th>\n",
       "      <th>ToCons</th>\n",
       "      <th>FromGen</th>\n",
       "      <th>Uhrzeit</th>\n",
       "    </tr>\n",
       "  </thead>\n",
       "  <tbody>\n",
       "    <tr>\n",
       "      <th>0</th>\n",
       "      <td>2017-01-01 00:05:00+01:00</td>\n",
       "      <td>11940.30</td>\n",
       "      <td>3.81</td>\n",
       "      <td>0.0</td>\n",
       "      <td>0.0</td>\n",
       "      <td>0.0</td>\n",
       "      <td>39.65</td>\n",
       "      <td>39.65</td>\n",
       "      <td>20.23</td>\n",
       "      <td>43.46</td>\n",
       "      <td>0.0</td>\n",
       "      <td>00:05:00</td>\n",
       "    </tr>\n",
       "    <tr>\n",
       "      <th>1</th>\n",
       "      <td>2017-01-01 00:10:00+01:00</td>\n",
       "      <td>13675.57</td>\n",
       "      <td>4.31</td>\n",
       "      <td>0.0</td>\n",
       "      <td>0.0</td>\n",
       "      <td>0.0</td>\n",
       "      <td>44.69</td>\n",
       "      <td>44.70</td>\n",
       "      <td>20.08</td>\n",
       "      <td>49.01</td>\n",
       "      <td>0.0</td>\n",
       "      <td>00:10:00</td>\n",
       "    </tr>\n",
       "    <tr>\n",
       "      <th>2</th>\n",
       "      <td>2017-01-01 00:15:00+01:00</td>\n",
       "      <td>8791.61</td>\n",
       "      <td>2.90</td>\n",
       "      <td>0.0</td>\n",
       "      <td>0.0</td>\n",
       "      <td>0.0</td>\n",
       "      <td>46.38</td>\n",
       "      <td>46.39</td>\n",
       "      <td>20.00</td>\n",
       "      <td>49.28</td>\n",
       "      <td>0.0</td>\n",
       "      <td>00:15:00</td>\n",
       "    </tr>\n",
       "    <tr>\n",
       "      <th>3</th>\n",
       "      <td>2017-01-01 00:20:00+01:00</td>\n",
       "      <td>8645.13</td>\n",
       "      <td>2.74</td>\n",
       "      <td>0.0</td>\n",
       "      <td>0.0</td>\n",
       "      <td>0.0</td>\n",
       "      <td>41.69</td>\n",
       "      <td>41.70</td>\n",
       "      <td>19.85</td>\n",
       "      <td>44.43</td>\n",
       "      <td>0.0</td>\n",
       "      <td>00:20:00</td>\n",
       "    </tr>\n",
       "    <tr>\n",
       "      <th>4</th>\n",
       "      <td>2017-01-01 00:25:00+01:00</td>\n",
       "      <td>9079.74</td>\n",
       "      <td>2.90</td>\n",
       "      <td>0.0</td>\n",
       "      <td>0.0</td>\n",
       "      <td>0.0</td>\n",
       "      <td>44.09</td>\n",
       "      <td>44.13</td>\n",
       "      <td>19.77</td>\n",
       "      <td>46.99</td>\n",
       "      <td>0.0</td>\n",
       "      <td>00:25:00</td>\n",
       "    </tr>\n",
       "  </tbody>\n",
       "</table>\n",
       "</div>"
      ],
      "text/plain": [
       "                   DateTime   DevWork  FromBatToCons  FromGenToBat  \\\n",
       "0 2017-01-01 00:05:00+01:00  11940.30           3.81           0.0   \n",
       "1 2017-01-01 00:10:00+01:00  13675.57           4.31           0.0   \n",
       "2 2017-01-01 00:15:00+01:00   8791.61           2.90           0.0   \n",
       "3 2017-01-01 00:20:00+01:00   8645.13           2.74           0.0   \n",
       "4 2017-01-01 00:25:00+01:00   9079.74           2.90           0.0   \n",
       "\n",
       "   FromGenToCons  FromGenToGrid  FromGridToCons  FromGrid  StateOfCharge  \\\n",
       "0            0.0            0.0           39.65     39.65          20.23   \n",
       "1            0.0            0.0           44.69     44.70          20.08   \n",
       "2            0.0            0.0           46.38     46.39          20.00   \n",
       "3            0.0            0.0           41.69     41.70          19.85   \n",
       "4            0.0            0.0           44.09     44.13          19.77   \n",
       "\n",
       "   ToCons  FromGen   Uhrzeit  \n",
       "0   43.46      0.0  00:05:00  \n",
       "1   49.01      0.0  00:10:00  \n",
       "2   49.28      0.0  00:15:00  \n",
       "3   44.43      0.0  00:20:00  \n",
       "4   46.99      0.0  00:25:00  "
      ]
     },
     "execution_count": 13,
     "metadata": {},
     "output_type": "execute_result"
    }
   ],
   "source": [
    "df.head()"
   ]
  },
  {
   "cell_type": "code",
   "execution_count": 14,
   "metadata": {},
   "outputs": [
    {
     "data": {
      "text/plain": [
       "DateTime          datetime64[ns, Europe/Berlin]\n",
       "DevWork                                 float64\n",
       "FromBatToCons                           float64\n",
       "FromGenToBat                            float64\n",
       "FromGenToCons                           float64\n",
       "FromGenToGrid                           float64\n",
       "FromGridToCons                          float64\n",
       "FromGrid                                float64\n",
       "StateOfCharge                           float64\n",
       "ToCons                                  float64\n",
       "FromGen                                 float64\n",
       "Uhrzeit                                  object\n",
       "dtype: object"
      ]
     },
     "execution_count": 14,
     "metadata": {},
     "output_type": "execute_result"
    }
   ],
   "source": [
    "df.dtypes"
   ]
  },
  {
   "cell_type": "code",
   "execution_count": 15,
   "metadata": {},
   "outputs": [],
   "source": [
    "#df2 = df.groupby(pd.Grouper(key='Uhrzeit',freq='Min')).agg({'FromGen':'mean'}).reset_index()\n",
    "#verbrauch = df.groupby(pd.Grouper(key='DateTime',freq='m')).agg({'ToCons':'sum'}).reset_index()\n",
    "\n",
    "#nun aggregieren wir alle Daten anhand der Uhrzeit, so entsteht ein durchschnittlicher Tag aus dem gesamten Beobachtungszeitraum:\n",
    "df2= df.groupby(by=[\"Uhrzeit\"]).mean().reset_index()"
   ]
  },
  {
   "cell_type": "code",
   "execution_count": 16,
   "metadata": {},
   "outputs": [
    {
     "data": {
      "text/html": [
       "<div>\n",
       "<style scoped>\n",
       "    .dataframe tbody tr th:only-of-type {\n",
       "        vertical-align: middle;\n",
       "    }\n",
       "\n",
       "    .dataframe tbody tr th {\n",
       "        vertical-align: top;\n",
       "    }\n",
       "\n",
       "    .dataframe thead th {\n",
       "        text-align: right;\n",
       "    }\n",
       "</style>\n",
       "<table border=\"1\" class=\"dataframe\">\n",
       "  <thead>\n",
       "    <tr style=\"text-align: right;\">\n",
       "      <th></th>\n",
       "      <th>Uhrzeit</th>\n",
       "      <th>DevWork</th>\n",
       "      <th>FromBatToCons</th>\n",
       "      <th>FromGenToBat</th>\n",
       "      <th>FromGenToCons</th>\n",
       "      <th>FromGenToGrid</th>\n",
       "      <th>FromGridToCons</th>\n",
       "      <th>FromGrid</th>\n",
       "      <th>StateOfCharge</th>\n",
       "      <th>ToCons</th>\n",
       "      <th>FromGen</th>\n",
       "    </tr>\n",
       "  </thead>\n",
       "  <tbody>\n",
       "    <tr>\n",
       "      <th>0</th>\n",
       "      <td>00:00:00</td>\n",
       "      <td>34294.052091</td>\n",
       "      <td>11.075538</td>\n",
       "      <td>0.000194</td>\n",
       "      <td>0.004081</td>\n",
       "      <td>0.000595</td>\n",
       "      <td>28.236399</td>\n",
       "      <td>28.329172</td>\n",
       "      <td>34.684870</td>\n",
       "      <td>39.309392</td>\n",
       "      <td>0.004870</td>\n",
       "    </tr>\n",
       "    <tr>\n",
       "      <th>1</th>\n",
       "      <td>00:05:00</td>\n",
       "      <td>33739.048024</td>\n",
       "      <td>10.908142</td>\n",
       "      <td>0.000210</td>\n",
       "      <td>0.003867</td>\n",
       "      <td>0.000663</td>\n",
       "      <td>27.839028</td>\n",
       "      <td>27.936218</td>\n",
       "      <td>34.476257</td>\n",
       "      <td>38.744393</td>\n",
       "      <td>0.004741</td>\n",
       "    </tr>\n",
       "    <tr>\n",
       "      <th>2</th>\n",
       "      <td>00:10:00</td>\n",
       "      <td>33364.448391</td>\n",
       "      <td>10.794228</td>\n",
       "      <td>0.000204</td>\n",
       "      <td>0.004202</td>\n",
       "      <td>0.000348</td>\n",
       "      <td>27.673933</td>\n",
       "      <td>27.782462</td>\n",
       "      <td>34.254202</td>\n",
       "      <td>38.465575</td>\n",
       "      <td>0.004754</td>\n",
       "    </tr>\n",
       "    <tr>\n",
       "      <th>3</th>\n",
       "      <td>00:15:00</td>\n",
       "      <td>33130.660335</td>\n",
       "      <td>10.717590</td>\n",
       "      <td>0.000210</td>\n",
       "      <td>0.003736</td>\n",
       "      <td>0.000709</td>\n",
       "      <td>27.396605</td>\n",
       "      <td>27.511399</td>\n",
       "      <td>34.029389</td>\n",
       "      <td>38.111320</td>\n",
       "      <td>0.004655</td>\n",
       "    </tr>\n",
       "    <tr>\n",
       "      <th>4</th>\n",
       "      <td>00:20:00</td>\n",
       "      <td>32273.477006</td>\n",
       "      <td>10.466074</td>\n",
       "      <td>0.000190</td>\n",
       "      <td>0.003388</td>\n",
       "      <td>0.000525</td>\n",
       "      <td>27.328825</td>\n",
       "      <td>27.448877</td>\n",
       "      <td>33.819731</td>\n",
       "      <td>37.791668</td>\n",
       "      <td>0.004104</td>\n",
       "    </tr>\n",
       "    <tr>\n",
       "      <th>...</th>\n",
       "      <td>...</td>\n",
       "      <td>...</td>\n",
       "      <td>...</td>\n",
       "      <td>...</td>\n",
       "      <td>...</td>\n",
       "      <td>...</td>\n",
       "      <td>...</td>\n",
       "      <td>...</td>\n",
       "      <td>...</td>\n",
       "      <td>...</td>\n",
       "      <td>...</td>\n",
       "    </tr>\n",
       "    <tr>\n",
       "      <th>283</th>\n",
       "      <td>23:35:00</td>\n",
       "      <td>38203.437431</td>\n",
       "      <td>12.224790</td>\n",
       "      <td>0.000210</td>\n",
       "      <td>0.004842</td>\n",
       "      <td>0.001025</td>\n",
       "      <td>29.382773</td>\n",
       "      <td>29.496124</td>\n",
       "      <td>35.837523</td>\n",
       "      <td>41.605769</td>\n",
       "      <td>0.006078</td>\n",
       "    </tr>\n",
       "    <tr>\n",
       "      <th>284</th>\n",
       "      <td>23:40:00</td>\n",
       "      <td>37196.041873</td>\n",
       "      <td>11.931590</td>\n",
       "      <td>0.000184</td>\n",
       "      <td>0.005112</td>\n",
       "      <td>0.000565</td>\n",
       "      <td>29.064520</td>\n",
       "      <td>29.182240</td>\n",
       "      <td>35.606971</td>\n",
       "      <td>40.994468</td>\n",
       "      <td>0.005861</td>\n",
       "    </tr>\n",
       "    <tr>\n",
       "      <th>285</th>\n",
       "      <td>23:45:00</td>\n",
       "      <td>36298.408469</td>\n",
       "      <td>11.669691</td>\n",
       "      <td>0.000151</td>\n",
       "      <td>0.004685</td>\n",
       "      <td>0.000762</td>\n",
       "      <td>28.916583</td>\n",
       "      <td>29.029166</td>\n",
       "      <td>35.381242</td>\n",
       "      <td>40.584067</td>\n",
       "      <td>0.005598</td>\n",
       "    </tr>\n",
       "    <tr>\n",
       "      <th>286</th>\n",
       "      <td>23:50:00</td>\n",
       "      <td>35383.240526</td>\n",
       "      <td>11.402766</td>\n",
       "      <td>0.000184</td>\n",
       "      <td>0.004185</td>\n",
       "      <td>0.000631</td>\n",
       "      <td>28.691498</td>\n",
       "      <td>28.811005</td>\n",
       "      <td>35.146524</td>\n",
       "      <td>40.091708</td>\n",
       "      <td>0.005000</td>\n",
       "    </tr>\n",
       "    <tr>\n",
       "      <th>287</th>\n",
       "      <td>23:55:00</td>\n",
       "      <td>34511.891334</td>\n",
       "      <td>11.152457</td>\n",
       "      <td>0.000184</td>\n",
       "      <td>0.004152</td>\n",
       "      <td>0.000466</td>\n",
       "      <td>28.245000</td>\n",
       "      <td>28.351294</td>\n",
       "      <td>34.917819</td>\n",
       "      <td>39.394704</td>\n",
       "      <td>0.004803</td>\n",
       "    </tr>\n",
       "  </tbody>\n",
       "</table>\n",
       "<p>288 rows × 11 columns</p>\n",
       "</div>"
      ],
      "text/plain": [
       "      Uhrzeit       DevWork  FromBatToCons  FromGenToBat  FromGenToCons  \\\n",
       "0    00:00:00  34294.052091      11.075538      0.000194       0.004081   \n",
       "1    00:05:00  33739.048024      10.908142      0.000210       0.003867   \n",
       "2    00:10:00  33364.448391      10.794228      0.000204       0.004202   \n",
       "3    00:15:00  33130.660335      10.717590      0.000210       0.003736   \n",
       "4    00:20:00  32273.477006      10.466074      0.000190       0.003388   \n",
       "..        ...           ...            ...           ...            ...   \n",
       "283  23:35:00  38203.437431      12.224790      0.000210       0.004842   \n",
       "284  23:40:00  37196.041873      11.931590      0.000184       0.005112   \n",
       "285  23:45:00  36298.408469      11.669691      0.000151       0.004685   \n",
       "286  23:50:00  35383.240526      11.402766      0.000184       0.004185   \n",
       "287  23:55:00  34511.891334      11.152457      0.000184       0.004152   \n",
       "\n",
       "     FromGenToGrid  FromGridToCons   FromGrid  StateOfCharge     ToCons  \\\n",
       "0         0.000595       28.236399  28.329172      34.684870  39.309392   \n",
       "1         0.000663       27.839028  27.936218      34.476257  38.744393   \n",
       "2         0.000348       27.673933  27.782462      34.254202  38.465575   \n",
       "3         0.000709       27.396605  27.511399      34.029389  38.111320   \n",
       "4         0.000525       27.328825  27.448877      33.819731  37.791668   \n",
       "..             ...             ...        ...            ...        ...   \n",
       "283       0.001025       29.382773  29.496124      35.837523  41.605769   \n",
       "284       0.000565       29.064520  29.182240      35.606971  40.994468   \n",
       "285       0.000762       28.916583  29.029166      35.381242  40.584067   \n",
       "286       0.000631       28.691498  28.811005      35.146524  40.091708   \n",
       "287       0.000466       28.245000  28.351294      34.917819  39.394704   \n",
       "\n",
       "      FromGen  \n",
       "0    0.004870  \n",
       "1    0.004741  \n",
       "2    0.004754  \n",
       "3    0.004655  \n",
       "4    0.004104  \n",
       "..        ...  \n",
       "283  0.006078  \n",
       "284  0.005861  \n",
       "285  0.005598  \n",
       "286  0.005000  \n",
       "287  0.004803  \n",
       "\n",
       "[288 rows x 11 columns]"
      ]
     },
     "execution_count": 16,
     "metadata": {},
     "output_type": "execute_result"
    }
   ],
   "source": [
    "df2.head(288)"
   ]
  },
  {
   "cell_type": "code",
   "execution_count": 17,
   "metadata": {},
   "outputs": [
    {
     "data": {
      "text/plain": [
       "Uhrzeit            object\n",
       "DevWork           float64\n",
       "FromBatToCons     float64\n",
       "FromGenToBat      float64\n",
       "FromGenToCons     float64\n",
       "FromGenToGrid     float64\n",
       "FromGridToCons    float64\n",
       "FromGrid          float64\n",
       "StateOfCharge     float64\n",
       "ToCons            float64\n",
       "FromGen           float64\n",
       "dtype: object"
      ]
     },
     "execution_count": 17,
     "metadata": {},
     "output_type": "execute_result"
    }
   ],
   "source": [
    "df2.dtypes"
   ]
  },
  {
   "cell_type": "code",
   "execution_count": 18,
   "metadata": {},
   "outputs": [
    {
     "data": {
      "text/html": [
       "<div>\n",
       "<style scoped>\n",
       "    .dataframe tbody tr th:only-of-type {\n",
       "        vertical-align: middle;\n",
       "    }\n",
       "\n",
       "    .dataframe tbody tr th {\n",
       "        vertical-align: top;\n",
       "    }\n",
       "\n",
       "    .dataframe thead th {\n",
       "        text-align: right;\n",
       "    }\n",
       "</style>\n",
       "<table border=\"1\" class=\"dataframe\">\n",
       "  <thead>\n",
       "    <tr style=\"text-align: right;\">\n",
       "      <th></th>\n",
       "      <th>Uhrzeit</th>\n",
       "      <th>DevWork</th>\n",
       "      <th>FromBatToCons</th>\n",
       "      <th>FromGenToBat</th>\n",
       "      <th>FromGenToCons</th>\n",
       "      <th>FromGenToGrid</th>\n",
       "      <th>FromGridToCons</th>\n",
       "      <th>FromGrid</th>\n",
       "      <th>StateOfCharge</th>\n",
       "      <th>ToCons</th>\n",
       "      <th>FromGen</th>\n",
       "    </tr>\n",
       "  </thead>\n",
       "  <tbody>\n",
       "    <tr>\n",
       "      <th>0</th>\n",
       "      <td>00:00:00</td>\n",
       "      <td>34294.052091</td>\n",
       "      <td>11.075538</td>\n",
       "      <td>0.000194</td>\n",
       "      <td>0.004081</td>\n",
       "      <td>0.000595</td>\n",
       "      <td>28.236399</td>\n",
       "      <td>28.329172</td>\n",
       "      <td>34.684870</td>\n",
       "      <td>39.309392</td>\n",
       "      <td>0.004870</td>\n",
       "    </tr>\n",
       "    <tr>\n",
       "      <th>1</th>\n",
       "      <td>00:05:00</td>\n",
       "      <td>33739.048024</td>\n",
       "      <td>10.908142</td>\n",
       "      <td>0.000210</td>\n",
       "      <td>0.003867</td>\n",
       "      <td>0.000663</td>\n",
       "      <td>27.839028</td>\n",
       "      <td>27.936218</td>\n",
       "      <td>34.476257</td>\n",
       "      <td>38.744393</td>\n",
       "      <td>0.004741</td>\n",
       "    </tr>\n",
       "    <tr>\n",
       "      <th>2</th>\n",
       "      <td>00:10:00</td>\n",
       "      <td>33364.448391</td>\n",
       "      <td>10.794228</td>\n",
       "      <td>0.000204</td>\n",
       "      <td>0.004202</td>\n",
       "      <td>0.000348</td>\n",
       "      <td>27.673933</td>\n",
       "      <td>27.782462</td>\n",
       "      <td>34.254202</td>\n",
       "      <td>38.465575</td>\n",
       "      <td>0.004754</td>\n",
       "    </tr>\n",
       "    <tr>\n",
       "      <th>3</th>\n",
       "      <td>00:15:00</td>\n",
       "      <td>33130.660335</td>\n",
       "      <td>10.717590</td>\n",
       "      <td>0.000210</td>\n",
       "      <td>0.003736</td>\n",
       "      <td>0.000709</td>\n",
       "      <td>27.396605</td>\n",
       "      <td>27.511399</td>\n",
       "      <td>34.029389</td>\n",
       "      <td>38.111320</td>\n",
       "      <td>0.004655</td>\n",
       "    </tr>\n",
       "    <tr>\n",
       "      <th>4</th>\n",
       "      <td>00:20:00</td>\n",
       "      <td>32273.477006</td>\n",
       "      <td>10.466074</td>\n",
       "      <td>0.000190</td>\n",
       "      <td>0.003388</td>\n",
       "      <td>0.000525</td>\n",
       "      <td>27.328825</td>\n",
       "      <td>27.448877</td>\n",
       "      <td>33.819731</td>\n",
       "      <td>37.791668</td>\n",
       "      <td>0.004104</td>\n",
       "    </tr>\n",
       "  </tbody>\n",
       "</table>\n",
       "</div>"
      ],
      "text/plain": [
       "    Uhrzeit       DevWork  FromBatToCons  FromGenToBat  FromGenToCons  \\\n",
       "0  00:00:00  34294.052091      11.075538      0.000194       0.004081   \n",
       "1  00:05:00  33739.048024      10.908142      0.000210       0.003867   \n",
       "2  00:10:00  33364.448391      10.794228      0.000204       0.004202   \n",
       "3  00:15:00  33130.660335      10.717590      0.000210       0.003736   \n",
       "4  00:20:00  32273.477006      10.466074      0.000190       0.003388   \n",
       "\n",
       "   FromGenToGrid  FromGridToCons   FromGrid  StateOfCharge     ToCons  \\\n",
       "0       0.000595       28.236399  28.329172      34.684870  39.309392   \n",
       "1       0.000663       27.839028  27.936218      34.476257  38.744393   \n",
       "2       0.000348       27.673933  27.782462      34.254202  38.465575   \n",
       "3       0.000709       27.396605  27.511399      34.029389  38.111320   \n",
       "4       0.000525       27.328825  27.448877      33.819731  37.791668   \n",
       "\n",
       "    FromGen  \n",
       "0  0.004870  \n",
       "1  0.004741  \n",
       "2  0.004754  \n",
       "3  0.004655  \n",
       "4  0.004104  "
      ]
     },
     "execution_count": 18,
     "metadata": {},
     "output_type": "execute_result"
    }
   ],
   "source": [
    "df2.head()"
   ]
  },
  {
   "cell_type": "code",
   "execution_count": null,
   "metadata": {},
   "outputs": [],
   "source": []
  },
  {
   "cell_type": "code",
   "execution_count": 22,
   "metadata": {},
   "outputs": [
    {
     "data": {
      "text/plain": [
       "Text(0, 0.5, 'Wh')"
      ]
     },
     "execution_count": 22,
     "metadata": {},
     "output_type": "execute_result"
    },
    {
     "data": {
      "image/png": "[encoded data removed]",
      "text/plain": [
       "<Figure size 1080x720 with 1 Axes>"
      ]
     },
     "metadata": {
      "needs_background": "light"
     },
     "output_type": "display_data"
    }
   ],
   "source": [
    "df2.plot(x='Uhrzeit', y=['FromGen', 'ToCons', 'FromGenToGrid', 'FromGrid'], figsize=(15,10))\n",
    "plt.xticks(['00:00',\"06:00\", \"12:00\",\"18:00\",\"22:00\"])\n",
    "plt.legend(['Erzeugung', 'Verbrauch', 'Einspeisung Stromnetz', 'Bezug Stromnetz'], fontsize='large')\n",
    "plt.ylabel(\"Wh\")\n"
   ]
  },
  {
   "cell_type": "code",
   "execution_count": 20,
   "metadata": {},
   "outputs": [
    {
     "data": {
      "text/plain": [
       "Text(0, 0.5, 'Wh')"
      ]
     },
     "execution_count": 20,
     "metadata": {},
     "output_type": "execute_result"
    },
    {
     "data": {
      "image/png": "[encoded data removed]",
      "text/plain": [
       "<Figure size 1080x720 with 1 Axes>"
      ]
     },
     "metadata": {
      "needs_background": "light"
     },
     "output_type": "display_data"
    }
   ],
   "source": [
    "df2.plot(x='Uhrzeit', y=['FromGen', 'ToCons'], figsize=(15,10))\n",
    "plt.xticks(['00:00',\"06:00\", \"09:00\", \"12:00\", \"15:00\",\"18:00\",\"21:00\"])\n",
    "plt.legend(['Erzeugung', 'Verbrauch'], fontsize='large')\n",
    "plt.ylabel(\"Wh\")"
   ]
  },
  {
   "cell_type": "code",
   "execution_count": null,
   "metadata": {},
   "outputs": [],
   "source": []
  },
  {
   "cell_type": "code",
   "execution_count": null,
   "metadata": {},
   "outputs": [],
   "source": []
  },
  {
   "cell_type": "code",
   "execution_count": null,
   "metadata": {},
   "outputs": [],
   "source": []
  }
 ],
 "metadata": {
  "kernelspec": {
   "display_name": "Python 3",
   "language": "python",
   "name": "python3"
  },
  "language_info": {
   "codemirror_mode": {
    "name": "ipython",
    "version": 3
   },
   "file_extension": ".py",
   "mimetype": "text/x-python",
   "name": "python",
   "nbconvert_exporter": "python",
   "pygments_lexer": "ipython3",
   "version": "3.7.3"
  }
 },
 "nbformat": 4,
 "nbformat_minor": 2
}
